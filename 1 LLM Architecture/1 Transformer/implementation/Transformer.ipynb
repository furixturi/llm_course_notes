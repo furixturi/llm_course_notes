{
 "cells": [
  {
   "cell_type": "markdown",
   "metadata": {},
   "source": [
    "# Transformer in Formula and Code\n",
    "\n",
    "Based on [Dive Into Deep Learning (D2L)](https://d2l.ai/chapter_attention-mechanisms-and-transformers/index.html)"
   ]
  },
  {
   "cell_type": "markdown",
   "metadata": {},
   "source": [
    "## Attention\n",
    "\n",
    "### Basics\n",
    "Denote a database of $m$ tuples of _keys_ and _values_ $D\\stackrel{def}{=}\\{(k_{1}, v_{1}), ..., (k_{m}, v_{m})\\}$, also denote a _query_ by $q$. Then we can define the _Attention_ over D as\n",
    "\n",
    "$$ Attention(q, D)\\stackrel{def}{=}\\sum_{i=1}^m \\alpha(q, k_{i})v_{i} $$ \n",
    "\n",
    "where $\\alpha(q, k_{i})$ are scalar attention weights. \n",
    "\n",
    "This operation pays more attention to terms where the weight is larger, hence the name _attention_.\n",
    "\n",
    "### Requirements\n",
    "To train a model using this function smoothly and stably, we want to ensure a number of requirements:\n",
    "- The weights $\\alpha(q, k_{i})$ are nonnegative.\n",
    "- The weights $\\alpha(q, k_{i})$ form a convex combination, i.e., $\\sum_{i}\\alpha(q,k_{i})=1$ and $\\alpha(q, k_{i})\\ge0$\n",
    "- Exactly one of the weights is 1 and all others are 0\n",
    "\n",
    "#### Sum to 1\n",
    "To ensure the weights sum up to 1, we can normalize them:\n",
    "\n",
    "$$ \\alpha(q, k_{i}) = \\frac{\\alpha(q, k_{i})}{\\sum_{j}\\alpha(q,k_{j})} $$\n",
    "\n",
    "#### Non-negative\n",
    "To also ensure that the weights are non-negative, we can use exponentiation:\n",
    "\n",
    "$$ \\alpha(q, k_{i}) = \\frac{exp(\\alpha(q, k_{i}))}{\\sum_{j}exp(\\alpha(q, k_{j}))} $$\n",
    "\n",
    "Now it is differentiable and its gradient never vanishes, all of which are desirable properties in a model.\n",
    "\n",
    "This is the $softmax$ operation."
   ]
  },
  {
   "cell_type": "code",
   "execution_count": null,
   "metadata": {},
   "outputs": [],
   "source": []
  },
  {
   "cell_type": "markdown",
   "metadata": {},
   "source": []
  }
 ],
 "metadata": {
  "kernelspec": {
   "display_name": "Python 3 (ipykernel)",
   "language": "python",
   "name": "python3"
  },
  "language_info": {
   "codemirror_mode": {
    "name": "ipython",
    "version": 3
   },
   "file_extension": ".py",
   "mimetype": "text/x-python",
   "name": "python",
   "nbconvert_exporter": "python",
   "pygments_lexer": "ipython3",
   "version": "3.9.18"
  }
 },
 "nbformat": 4,
 "nbformat_minor": 4
}
